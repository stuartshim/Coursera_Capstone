{
 "cells": [
  {
   "cell_type": "markdown",
   "metadata": {},
   "source": [
    "# Locating a new art gallery in Los Angeles, California"
   ]
  },
  {
   "cell_type": "markdown",
   "metadata": {},
   "source": [
    "# by Stuart Shim for the Applied Data Science Capstone Project for IBM"
   ]
  },
  {
   "cell_type": "markdown",
   "metadata": {},
   "source": [
    "## Los Angeles Introduction and Overview"
   ]
  },
  {
   "cell_type": "markdown",
   "metadata": {},
   "source": [
    "Los Angeles, California is known as the entertainment capital of the world. Movie and television studios including Paramount Pictures, Universal Studios, Warner Brothers, and Sony Pictures Entertainment are located in the Los Angeles basin. In the last decade, Los Angeles, has emerged as a major center for artists, collectors, art institutions, auction houses and galleries. Unlike most heavily-populated metropolitan areas in the world, Los Angeles, with a current population of 4 million residents, and the second largest city in the United States, does not have a true center or downtown. Although recent major real estate developments may challenge this notion, Los Angeles has various centers of activity and business. In order to create a sense of community, various neighborhoods have been labeled with physical street signs informing those interested, that they are in a new or specific neighborhood. This idea is fairly common throughout the United States, and can be often seen in historic or architecturally significant neighborhoods. In Los Angeles, it's more a marketing and promotion effort for residents and real estate development. It has also resulted in greater fragmentation of existing or older neighborhoods."
   ]
  },
  {
   "cell_type": "markdown",
   "metadata": {},
   "source": [
    "## The Unique Geographic and Transportation Challenges of Los Angeles"
   ]
  },
  {
   "cell_type": "markdown",
   "metadata": {},
   "source": [
    "There have been many theories and urban studies proffered to explain this phenomenon of no centralized business district in Los Angeles. But, the most likely explanation is the development of freeways in the Southern California region in the 1940s-70s. This freeway system encouraged decentralized home and commercial development. The good citizens of Southern California have paid the price for this development by having some of the worst traffic and air quality issues in North America. Travel times are much greater during peak traffic periods, so locating any business takes on greater importance in Los Angeles. Ask anyone who has flown into Los Angeles International Airport, how long it takes to travel the 19 miles to downtown Los Angeles. You may be surprised that the range can be from 24 minutes to 2+ hours, by car, depending on arrival time and traffic conditions."
   ]
  },
  {
   "cell_type": "markdown",
   "metadata": {},
   "source": [
    "## Business Problem"
   ]
  },
  {
   "cell_type": "markdown",
   "metadata": {},
   "source": [
    "Because of the issues outlined previously, a burgeoning art market, a non-central business district or city core, and traffic, locating a new art gallery in Los Angeles takes on greater importance than other metropolitan areas in the United States. This project will examine and address this challenge."
   ]
  },
  {
   "cell_type": "markdown",
   "metadata": {},
   "source": [
    "## Target Audience"
   ]
  },
  {
   "cell_type": "markdown",
   "metadata": {},
   "source": [
    "The target audience for this project includes: Entrepreneurs who have yet to launch an art gallery in Los Angeles, existing gallery owners who are considering expanding or relocating their operations, collectors interested in new venues to explore, art gallery suppliers, artists seeking new or additional representation, and art-loving visitors and tourists to Los Angeles."
   ]
  },
  {
   "cell_type": "markdown",
   "metadata": {},
   "source": [
    "## Project Methodology and Data Sources"
   ]
  },
  {
   "cell_type": "markdown",
   "metadata": {},
   "source": [
    "The general methodology for this project will consist of transforming available neighborhood data from Wikipedia into various data frames, visualizing the locations of these neighborhoods, merging the neighborhood data with existing art gallery geolocation data provided by Foursquare, and then utilizing k-means clustering of neighborhoods to identify potential new locations for an art gallery. \n",
    "Web scraping the Wikipedia website and using Foursquare geolocation data will be employed extensively for this project. "
   ]
  }
 ],
 "metadata": {
  "kernelspec": {
   "display_name": "Python 3",
   "language": "python",
   "name": "python3"
  },
  "language_info": {
   "codemirror_mode": {
    "name": "ipython",
    "version": 3
   },
   "file_extension": ".py",
   "mimetype": "text/x-python",
   "name": "python",
   "nbconvert_exporter": "python",
   "pygments_lexer": "ipython3",
   "version": "3.7.3"
  }
 },
 "nbformat": 4,
 "nbformat_minor": 4
}
